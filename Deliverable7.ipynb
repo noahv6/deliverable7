{
  "nbformat": 4,
  "nbformat_minor": 0,
  "metadata": {
    "colab": {
      "provenance": []
    },
    "kernelspec": {
      "name": "python3",
      "display_name": "Python 3"
    },
    "language_info": {
      "name": "python"
    }
  },
  "cells": [
    {
      "cell_type": "code",
      "execution_count": 13,
      "metadata": {
        "colab": {
          "base_uri": "https://localhost:8080/"
        },
        "id": "oMSpi5RmoBbE",
        "outputId": "f400f531-8266-4426-deaf-6c6ff84aa6f7"
      },
      "outputs": [
        {
          "output_type": "stream",
          "name": "stdout",
          "text": [
            "Please enter an integer between 5 and 15: 7\n",
            "The elements of the arrays are:  [24, 39, 19, 37, 49, 45, 11]\n",
            "The sum is:  224\n"
          ]
        }
      ],
      "source": [
        "# populate lists\n",
        "\n",
        "import numpy as np\n",
        "import pandas as pd\n",
        "#define method1\n",
        "def method_1(input):\n",
        "    out = []\n",
        "    for i in range(input):\n",
        "        out.append(np.random.randint(10,50))\n",
        "    return out\n",
        "\n",
        "#define method2\n",
        "def method_2(a):\n",
        "    sum = 0\n",
        "    for i in a:\n",
        "        sum += i\n",
        "    return sum\n",
        "# loop til you gret a proper entry\n",
        "while True:\n",
        "    # ask user to enter an integer number between 5 and 15\n",
        "    n = int(input(\"Please enter an integer between 5 and 15: \")) \n",
        "    if n >= 5 and n <= 15: #check value\n",
        "        break\n",
        "    else:\n",
        "        print(\"Your entry is either too low or too high. Please try again.\")\n",
        "\n",
        "random = method_1(n)\n",
        "\n",
        "print(\"The elements of the arrays are: \",random)\n",
        "\n",
        "sum = method_2(random)\n",
        "\n",
        "print(\"The sum is: \",sum)"
      ]
    }
  ]
}