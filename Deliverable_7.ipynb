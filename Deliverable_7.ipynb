{
  "nbformat": 4,
  "nbformat_minor": 0,
  "metadata": {
    "colab": {
      "provenance": []
    },
    "kernelspec": {
      "name": "python3",
      "display_name": "Python 3"
    },
    "language_info": {
      "name": "python"
    }
  },
  "cells": [
    {
      "cell_type": "code",
      "execution_count": 12,
      "metadata": {
        "colab": {
          "base_uri": "https://localhost:8080/"
        },
        "id": "oMSpi5RmoBbE",
        "outputId": "2832fd1b-542b-4db8-a8d0-00732dfef796"
      },
      "outputs": [
        {
          "output_type": "stream",
          "name": "stdout",
          "text": [
            "Please enter an integer between 5 and 15: 0\n",
            "Your entry is either too low or too high. Please try again.\n",
            "Please enter an integer between 5 and 15: 22\n",
            "Your entry is either too low or too high. Please try again.\n",
            "Please enter an integer between 5 and 15: 8\n",
            "The elements of the arrays are:  [10, 37, 47, 22, 39, 11, 35, 29]\n",
            "The sum is:  230\n"
          ]
        }
      ],
      "source": [
        "# populate lists\n",
        "\n",
        "import numpy as np\n",
        "import pandas as pd\n",
        "# define method 1\n",
        "def method_1(input):\n",
        "    out = []\n",
        "    for i in range(input):\n",
        "        out.append(np.random.randint(10,50))\n",
        "    return out\n",
        "\n",
        "# define method 2\n",
        "def method_2(a):\n",
        "    sum = 0\n",
        "    for i in a:\n",
        "        sum += i\n",
        "    return sum\n",
        "# Indefinite loop until proper entry\n",
        "while True:\n",
        "    #1. Ask user to enter an integer number between 5 and 15\n",
        "    n = int(input(\"Please enter an integer between 5 and 15: \")) \n",
        "    if n >= 5 and n <= 15: #2. check entry value\n",
        "        break\n",
        "    else:\n",
        "        print(\"Your entry is either too low or too high. Please try again.\")\n",
        "#3. Use Method 1\n",
        "random = method_1(n)\n",
        "#4. Display all elements\n",
        "print(\"The elements of the arrays are: \",random)\n",
        "#5. Use Method 2 \n",
        "sum = method_2(random)\n",
        "#6 Display sum value\n",
        "print(\"The sum is: \",sum)"
      ]
    }
  ]
}